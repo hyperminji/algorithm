{
  "nbformat": 4,
  "nbformat_minor": 0,
  "metadata": {
    "colab": {
      "name": "이것이 코딩테스트다.ipynb",
      "provenance": [],
      "authorship_tag": "ABX9TyM2YMW3qQCyUnIbz5hykm68",
      "include_colab_link": true
    },
    "kernelspec": {
      "name": "python3",
      "display_name": "Python 3"
    },
    "language_info": {
      "name": "python"
    }
  },
  "cells": [
    {
      "cell_type": "markdown",
      "metadata": {
        "id": "view-in-github",
        "colab_type": "text"
      },
      "source": [
        "<a href=\"https://colab.research.google.com/github/hyperminji/algorithm/blob/main/%EC%9D%B4%EA%B2%83%EC%9D%B4_%EC%BD%94%EB%94%A9%ED%85%8C%EC%8A%A4%ED%8A%B8%EB%8B%A4.ipynb\" target=\"_parent\"><img src=\"https://colab.research.google.com/assets/colab-badge.svg\" alt=\"Open In Colab\"/></a>"
      ]
    },
    {
      "cell_type": "markdown",
      "metadata": {
        "id": "1e1FrumScdQ4"
      },
      "source": [
        "## 그리디\n"
      ]
    },
    {
      "cell_type": "markdown",
      "metadata": {
        "id": "A2UZ86aPcjfb"
      },
      "source": [
        "### 01.모험가길드\n"
      ]
    },
    {
      "cell_type": "code",
      "metadata": {
        "id": "oV7kV1S_TI8X"
      },
      "source": [
        "모험가 길드\n",
        "N=5\n",
        "공포도가 X인 모험가는 반드시 X명이상으로 구성한 모험가 그룹에 참여해야 여행을 떠날 수 있도록 규정\n",
        "최대 몇 개의 모험가 그룹을 만들 수 있는가"
      ],
      "execution_count": null,
      "outputs": []
    },
    {
      "cell_type": "code",
      "metadata": {
        "id": "yUJK-nFHTJNP"
      },
      "source": [
        "공포도가 적은 사람들을 내보내면 -> 최대값 구할 수 있음\n",
        "오름차순으로 정렬\n",
        "공포도를 확인\n",
        "현재그룹에 포함된 모험가의 수 >= 현재 확인하고 있는 공포도 :\n",
        "count+1\n",
        "\n"
      ],
      "execution_count": null,
      "outputs": []
    },
    {
      "cell_type": "code",
      "metadata": {
        "id": "ez_BAoeMTJEb"
      },
      "source": [
        "5\n",
        "2 3 1 2 2 "
      ],
      "execution_count": null,
      "outputs": []
    },
    {
      "cell_type": "code",
      "metadata": {
        "colab": {
          "base_uri": "https://localhost:8080/"
        },
        "id": "ikh_2-J0UEqA",
        "outputId": "788394c3-e8a9-46da-c4d7-23affce404b3"
      },
      "source": [
        "n = input()\n",
        "data = list(map(int, input().split()))\n",
        "data.sort()\n",
        "\n",
        "\n",
        "result_group = 0\n",
        "count_people_in_group= 0\n",
        "\n",
        "for i in data:\n",
        "  count_people_in_group = count_people_in_group+1\n",
        "  if count_people_in_group >= i:\n",
        "    result_group = result_group+1\n",
        "    count_people_in_group = 0   #그룹을 만들어서 내보냈으니 다시 초기화\n",
        "print(result_group)"
      ],
      "execution_count": 3,
      "outputs": [
        {
          "output_type": "stream",
          "name": "stdout",
          "text": [
            "5\n",
            "2 3 1 2 2\n",
            "2\n"
          ]
        }
      ]
    },
    {
      "cell_type": "markdown",
      "metadata": {
        "id": "S6cufEU6cs5M"
      },
      "source": [
        "### 02.곱하기 또는 더하기"
      ]
    },
    {
      "cell_type": "markdown",
      "metadata": {
        "id": "COLTOLPMZu00"
      },
      "source": [
        "곱하기 또는 더하기             \n",
        "\n",
        " 두수에 대해 연산을 수행할 시 하나라도 1이하인 경우 +, 두수가 2이상인 경우 *"
      ]
    },
    {
      "cell_type": "code",
      "metadata": {
        "colab": {
          "base_uri": "https://localhost:8080/"
        },
        "id": "0SuqSDffbPKC",
        "outputId": "16bf59b5-5ae5-408c-b40f-a052ad99dac7"
      },
      "source": [
        "data = input()  #문자인 상태\n",
        "#문자를 숫자로 변환\n",
        "result = int(data[0]) # 첫번째 숫자 \n",
        "for i in range(1, len(data)): # for 문 돌면서 다음 문자를 숫자로 변환하고 \n",
        "  num = int(data[i])\n",
        "  if num <=1 or result <=1: #결과가 1이하 혹은 다음 숫자가 1이하일 경우 더하기\n",
        "    result = result +num\n",
        "  else:\n",
        "    result = result*num  # 아닐 경우 곱하기\n",
        "print(result)"
      ],
      "execution_count": 4,
      "outputs": [
        {
          "output_type": "stream",
          "name": "stdout",
          "text": [
            "02984\n",
            "576\n"
          ]
        }
      ]
    },
    {
      "cell_type": "markdown",
      "metadata": {
        "id": "ZXxL5I2Wc9hS"
      },
      "source": [
        "### 03.문자열뒤집기\n"
      ]
    },
    {
      "cell_type": "code",
      "metadata": {
        "id": "PH5ddDEicYa_"
      },
      "source": [
        "S= input()\n",
        "count = 0\n",
        "#뒤집을 타이밍 찾기\n",
        "for i in range(len(S)-1):  # i 와 i+1을 비교할 것이기 때문에 len(s)-1 한다\n",
        "    if S[i]!=S[i+1]:\n",
        "        count= count +1\n",
        "    result = (count+1)//2  \n",
        "#변화 횟수에 +1을 하고 몫만 가져오면 뒤집어야할 횟수가 나온다(0또는 1로만 바꾸면 되기 때문에)\n",
        "print(result)"
      ],
      "execution_count": null,
      "outputs": []
    },
    {
      "cell_type": "markdown",
      "metadata": {
        "id": "gc2NThvKj9Cf"
      },
      "source": [
        "### 04.만들 수 없는 금액"
      ]
    },
    {
      "cell_type": "markdown",
      "metadata": {
        "id": "a6p70Duskyom"
      },
      "source": [
        "*동전을 오름차순정리, 작은 동전부터 차례로 더해가면서 찾아야할 값 업데이트\n"
      ]
    },
    {
      "cell_type": "code",
      "metadata": {
        "id": "PJNSAfTyk0l6"
      },
      "source": [
        "5\n",
        "3 2 1 1 9"
      ],
      "execution_count": null,
      "outputs": []
    },
    {
      "cell_type": "code",
      "metadata": {
        "colab": {
          "base_uri": "https://localhost:8080/"
        },
        "id": "-QRnM3eol0ea",
        "outputId": "fd117277-43cb-4585-a10d-7dae201c3339"
      },
      "source": [
        "n = int(input())\n",
        "data = list(map(int, input().split()))\n",
        "data.sort()\n",
        "\n",
        "\n",
        "amount = 1\n",
        "for x in data:\n",
        "  if amount < x:  #만들 수 없는 숫자가 나오면 멈춘다\n",
        "    break\n",
        "  else:\n",
        "    amount = amount+ x\n",
        "\n",
        "print(amount)"
      ],
      "execution_count": 5,
      "outputs": [
        {
          "output_type": "stream",
          "name": "stdout",
          "text": [
            "5\n",
            "3 2 1 1 9\n",
            "8\n"
          ]
        }
      ]
    }
  ]
}